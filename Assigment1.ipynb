{
  "nbformat": 4,
  "nbformat_minor": 0,
  "metadata": {
    "colab": {
      "name": "Assigment1.ipynb",
      "provenance": [],
      "authorship_tag": "ABX9TyMmISVuLL017HNl0M8ONFDE",
      "include_colab_link": true
    },
    "kernelspec": {
      "name": "python3",
      "display_name": "Python 3"
    },
    "language_info": {
      "name": "python"
    }
  },
  "cells": [
    {
      "cell_type": "markdown",
      "metadata": {
        "id": "view-in-github",
        "colab_type": "text"
      },
      "source": [
        "<a href=\"https://colab.research.google.com/github/laxmipunnam/2216132_AIML_BootCamp/blob/main/Assigment1.ipynb\" target=\"_parent\"><img src=\"https://colab.research.google.com/assets/colab-badge.svg\" alt=\"Open In Colab\"/></a>"
      ]
    },
    {
      "cell_type": "markdown",
      "source": [
        "1) implement  the methods of string with example"
      ],
      "metadata": {
        "id": "H16V9ZJ212YS"
      }
    },
    {
      "cell_type": "code",
      "source": [
        "str=\"Gradstellar\"\n",
        "print(str.upper())\n",
        "print(str.lower())\n",
        "print(str.swapcase())\n",
        "print(str.title())\n",
        "print(str.capitalize())\n"
      ],
      "metadata": {
        "colab": {
          "base_uri": "https://localhost:8080/"
        },
        "id": "XwyQa67d2Apk",
        "outputId": "6aee0f49-b395-4b7d-88da-6355d57ea112"
      },
      "execution_count": null,
      "outputs": [
        {
          "output_type": "stream",
          "name": "stdout",
          "text": [
            "GRADSTELLAR\n",
            "gradstellar\n",
            "gRADSTELLAR\n",
            "Gradstellar\n",
            "Gradstellar\n"
          ]
        }
      ]
    },
    {
      "cell_type": "code",
      "source": [
        "str1=\" my name is laxmi \"\n",
        "print(str1.strip())\n",
        "print(str1.lstrip())\n",
        "print(str1.rstrip())"
      ],
      "metadata": {
        "colab": {
          "base_uri": "https://localhost:8080/"
        },
        "id": "YgEVkApi3QNA",
        "outputId": "da75212a-97b6-49f2-ba23-9298a8fe88da"
      },
      "execution_count": null,
      "outputs": [
        {
          "output_type": "stream",
          "name": "stdout",
          "text": [
            "my name is laxmi\n",
            "my name is laxmi \n",
            " my name is laxmi\n"
          ]
        }
      ]
    },
    {
      "cell_type": "markdown",
      "source": [
        "2) Implement the methods of List with example\n"
      ],
      "metadata": {
        "id": "L-H83nZ82O7V"
      }
    },
    {
      "cell_type": "code",
      "source": [
        "l1=[2,4,6,8,10]\n",
        "l1.append(12)\n",
        "print(l1)\n",
        "l1.insert(3,4.0)\n",
        "print(l1)\n",
        "l1.extend([13,14])\n",
        "print(l1)\n"
      ],
      "metadata": {
        "colab": {
          "base_uri": "https://localhost:8080/"
        },
        "id": "Uandpgmv4ED_",
        "outputId": "1dfb73d9-5ca5-48f8-f067-c7483df942ef"
      },
      "execution_count": null,
      "outputs": [
        {
          "output_type": "stream",
          "name": "stdout",
          "text": [
            "[2, 4, 6, 8, 10, 12]\n",
            "[2, 4, 6, 4.0, 8, 10, 12]\n",
            "[2, 4, 6, 4.0, 8, 10, 12, 13, 14]\n"
          ]
        }
      ]
    },
    {
      "cell_type": "code",
      "source": [
        "del l1[3]\n",
        "print(l1)\n",
        "del l1[0:2]\n",
        "print(l1)"
      ],
      "metadata": {
        "colab": {
          "base_uri": "https://localhost:8080/"
        },
        "id": "PA-qlpzF6Dh_",
        "outputId": "8eeb2f57-f308-401b-c081-4a3ffc26b094"
      },
      "execution_count": null,
      "outputs": [
        {
          "output_type": "stream",
          "name": "stdout",
          "text": [
            "[2, 4, 6, 8, 10, 12, 13, 14]\n",
            "[6, 8, 10, 12, 13, 14]\n"
          ]
        }
      ]
    },
    {
      "cell_type": "code",
      "source": [
        "l1.remove(12)\n",
        "print(l1)\n",
        "l1.pop()\n",
        "print(l1)\n",
        "l1.clear()\n"
      ],
      "metadata": {
        "colab": {
          "base_uri": "https://localhost:8080/"
        },
        "id": "PJNGZ7G76q5Y",
        "outputId": "6ee70f82-9832-4545-fa86-e4819a284340"
      },
      "execution_count": null,
      "outputs": [
        {
          "output_type": "stream",
          "name": "stdout",
          "text": [
            "[6, 8, 10, 13, 14]\n",
            "[6, 8, 10, 13]\n"
          ]
        }
      ]
    },
    {
      "cell_type": "markdown",
      "source": [
        "3)Implement the methods of List with example\n"
      ],
      "metadata": {
        "id": "aX9z55UE8DjU"
      }
    },
    {
      "cell_type": "code",
      "source": [
        "tuple=(1,2,3,4,5,6,7,8,9)\n",
        "print(tuple.count(1))\n",
        "print(tuple.index(2))\n",
        "print(max(tuple))\n",
        "print(min(tuple))\n",
        "print(len(tuple))"
      ],
      "metadata": {
        "colab": {
          "base_uri": "https://localhost:8080/"
        },
        "id": "Q39wPUM38NV0",
        "outputId": "10cbadf2-4ca7-460d-ed3d-b9bc3727a76b"
      },
      "execution_count": null,
      "outputs": [
        {
          "output_type": "stream",
          "name": "stdout",
          "text": [
            "1\n",
            "1\n",
            "9\n",
            "1\n",
            "9\n"
          ]
        }
      ]
    },
    {
      "cell_type": "markdown",
      "source": [
        "4)Implement the methods of dictionary with example"
      ],
      "metadata": {
        "id": "E69SB9vy9uXy"
      }
    },
    {
      "cell_type": "code",
      "source": [
        "dict={'name': 'sai','add' : 'hnk'}\n",
        "print(dict['name'])\n",
        "print(dict.keys())\n",
        "print(dict.values())\n",
        "print(dict.get('name'))"
      ],
      "metadata": {
        "colab": {
          "base_uri": "https://localhost:8080/"
        },
        "id": "WLZr_N5v8NSV",
        "outputId": "126b647e-1044-4c27-eeab-7d25008dca6c"
      },
      "execution_count": null,
      "outputs": [
        {
          "output_type": "stream",
          "name": "stdout",
          "text": [
            "sai\n",
            "dict_keys(['name', 'add'])\n",
            "dict_values(['sai', 'hnk'])\n",
            "sai\n"
          ]
        }
      ]
    },
    {
      "cell_type": "markdown",
      "source": [
        "5)Implement the methods of sets with example\n"
      ],
      "metadata": {
        "id": "Mw1GJX-KAAiM"
      }
    },
    {
      "cell_type": "code",
      "source": [
        "set={1,3}\n",
        "set.add(2)\n",
        "print(set)\n",
        "set.update([2,3,4])\n",
        "print(set)\n",
        "set.remove(3)\n",
        "print(set)\n",
        "set.discard(4)\n",
        "print(set)"
      ],
      "metadata": {
        "colab": {
          "base_uri": "https://localhost:8080/"
        },
        "id": "Vgjyo-vlAKq2",
        "outputId": "4bdadc34-4d08-42c0-bae8-aaf52abeeb29"
      },
      "execution_count": null,
      "outputs": [
        {
          "output_type": "stream",
          "name": "stdout",
          "text": [
            "{1, 2, 3}\n",
            "{1, 2, 3, 4}\n",
            "{1, 2, 4}\n",
            "{1, 2}\n"
          ]
        }
      ]
    },
    {
      "cell_type": "markdown",
      "source": [
        "6)Write a python program to convert decimal to binary ,octal and hexadecimal with direct method"
      ],
      "metadata": {
        "id": "t0HrKlCFEdd0"
      }
    },
    {
      "cell_type": "code",
      "source": [
        "dec=16\n",
        "print(\"The decimal value of\", dec, \"is:\")\n",
        "print(bin(dec), \"in binary.\")\n",
        "print(oct(dec), \"in octal.\")\n",
        "print(hex(dec), \"in hexadecimal.\")"
      ],
      "metadata": {
        "colab": {
          "base_uri": "https://localhost:8080/"
        },
        "id": "HXp9UbFzExwr",
        "outputId": "e3a4ab21-d894-4b37-b687-679d1aef963a"
      },
      "execution_count": null,
      "outputs": [
        {
          "output_type": "stream",
          "name": "stdout",
          "text": [
            "The decimal value of 16 is:\n",
            "0b10000 in binary.\n",
            "0o20 in octal.\n",
            "0x10 in hexadecimal.\n"
          ]
        }
      ]
    },
    {
      "cell_type": "markdown",
      "source": [
        "7)Implement arthematic operators with example"
      ],
      "metadata": {
        "id": "4XOclv9QBImE"
      }
    },
    {
      "cell_type": "code",
      "source": [
        "a=5\n",
        "b=6\n",
        "print(a+b)\n",
        "print(a-b)\n",
        "print(a*b)\n",
        "print(a/b)\n",
        "print(a//b)\n"
      ],
      "metadata": {
        "colab": {
          "base_uri": "https://localhost:8080/"
        },
        "id": "j83jqQbmBmtC",
        "outputId": "b00b0280-edf5-44cc-fac2-5a5d3d33755a"
      },
      "execution_count": null,
      "outputs": [
        {
          "output_type": "stream",
          "name": "stdout",
          "text": [
            "11\n",
            "-1\n",
            "30\n",
            "0.8333333333333334\n",
            "0\n"
          ]
        }
      ]
    },
    {
      "cell_type": "markdown",
      "source": [
        "8)Implement assignment operators with example\n",
        "\n"
      ],
      "metadata": {
        "id": "PM3WHbrqCYS1"
      }
    },
    {
      "cell_type": "code",
      "source": [
        "a=9\n",
        "c=5\n",
        "c+=a\n",
        "print(c)"
      ],
      "metadata": {
        "colab": {
          "base_uri": "https://localhost:8080/"
        },
        "id": "KjOeFPnHCxCO",
        "outputId": "45f74c94-0d14-4a42-ab94-22b917992ad1"
      },
      "execution_count": null,
      "outputs": [
        {
          "output_type": "stream",
          "name": "stdout",
          "text": [
            "14\n"
          ]
        }
      ]
    },
    {
      "cell_type": "code",
      "source": [
        "c*=a\n",
        "print(c)"
      ],
      "metadata": {
        "colab": {
          "base_uri": "https://localhost:8080/"
        },
        "id": "icEYj6EiFrV0",
        "outputId": "02d6b509-c08d-4e3b-a864-b44eb9769a84"
      },
      "execution_count": null,
      "outputs": [
        {
          "output_type": "stream",
          "name": "stdout",
          "text": [
            "45\n"
          ]
        }
      ]
    },
    {
      "cell_type": "markdown",
      "source": [
        "9)Implement comparison operators with example\n"
      ],
      "metadata": {
        "id": "LDJ7E8WkEb5p"
      }
    },
    {
      "cell_type": "code",
      "source": [
        "a = 10\n",
        "b = 12\n",
        "print('a > b is',a>b)\n",
        "print('a < b is',a<b)\n",
        "print('a == b is',a==b)\n",
        "print('a != b is',a!=b)\n",
        "print('a >= b is',a>=b)\n",
        "print('a <= b is',a<=b)\n"
      ],
      "metadata": {
        "colab": {
          "base_uri": "https://localhost:8080/"
        },
        "id": "Dw5bxjdBHltk",
        "outputId": "c063abe9-8b8c-4308-ac8a-8e0c33b9fa44"
      },
      "execution_count": null,
      "outputs": [
        {
          "output_type": "stream",
          "name": "stdout",
          "text": [
            "a > b is False\n",
            "a < b is True\n",
            "a == b is False\n",
            "a != b is True\n",
            "a >= b is False\n",
            "a <= b is True\n"
          ]
        }
      ]
    },
    {
      "cell_type": "markdown",
      "source": [
        "10)Implement logical operators with example\n",
        "\n"
      ],
      "metadata": {
        "id": "QXzVz0Q6Iuyo"
      }
    },
    {
      "cell_type": "code",
      "source": [
        "x = True\n",
        "y = False\n",
        "\n",
        "print('x and y is',x and y)\n",
        "\n",
        "print('x or y is',x or y)\n",
        "\n",
        "print('not x is',not x)"
      ],
      "metadata": {
        "colab": {
          "base_uri": "https://localhost:8080/"
        },
        "id": "XWnJJubDI2V3",
        "outputId": "0b843be1-3156-457d-c170-2aa3c18eef65"
      },
      "execution_count": null,
      "outputs": [
        {
          "output_type": "stream",
          "name": "stdout",
          "text": [
            "x and y is False\n",
            "x or y is True\n",
            "not x is False\n"
          ]
        }
      ]
    },
    {
      "cell_type": "markdown",
      "source": [
        "11)Implement bitwise operators with example"
      ],
      "metadata": {
        "id": "-hpwPPpbJBXv"
      }
    },
    {
      "cell_type": "code",
      "source": [
        "a=12\n",
        "b=13\n",
        "print(a&b)\n",
        "print(a^b)\n",
        "print(a|b)\n",
        "print(~a)\n",
        "print(a>>2)\n",
        "print(a<<3)\n",
        "print(~b)\n",
        "print(b>>2)\n",
        "print(b<<3)"
      ],
      "metadata": {
        "colab": {
          "base_uri": "https://localhost:8080/"
        },
        "id": "Ruy9-cbgJO_7",
        "outputId": "0ebc3d36-4e81-452a-8287-27f47e93ac28"
      },
      "execution_count": null,
      "outputs": [
        {
          "output_type": "stream",
          "name": "stdout",
          "text": [
            "12\n",
            "1\n",
            "13\n",
            "-13\n",
            "3\n",
            "96\n",
            "-14\n",
            "3\n",
            "104\n"
          ]
        }
      ]
    },
    {
      "cell_type": "markdown",
      "source": [
        "12)Implement membership operators with example\n",
        "\n"
      ],
      "metadata": {
        "id": "lAcn8RceKCsf"
      }
    },
    {
      "cell_type": "code",
      "source": [
        "x = 'Hi Friends'\n",
        "y = {1:'p',2:'q'}\n",
        "print('H' in x)\n",
        "print('Hi' not in x)\n",
        "print(1 in y)\n",
        "print('p' in y)"
      ],
      "metadata": {
        "colab": {
          "base_uri": "https://localhost:8080/"
        },
        "id": "HAkXa9q9KeT8",
        "outputId": "95ec0c82-0074-47f9-869e-92c6004e826d"
      },
      "execution_count": null,
      "outputs": [
        {
          "output_type": "stream",
          "name": "stdout",
          "text": [
            "True\n",
            "False\n",
            "True\n",
            "False\n"
          ]
        }
      ]
    },
    {
      "cell_type": "markdown",
      "source": [
        "13)Implement identity operators with example"
      ],
      "metadata": {
        "id": "5o1aFr-lK4Ov"
      }
    },
    {
      "cell_type": "code",
      "source": [
        "a = 5\n",
        "b = 5\n",
        "a1 = 'Hello'\n",
        "b1 = 'Hello'\n",
        "a2 = [1,2,3]\n",
        "b2 = [1,2,3]\n",
        "print(a is not b)\n",
        "print(a1 is b1)\n",
        "print(a2 is b2)"
      ],
      "metadata": {
        "colab": {
          "base_uri": "https://localhost:8080/"
        },
        "id": "fypptpJdLB9U",
        "outputId": "f19b828a-cb3e-43b8-cd44-03e15c74ffcd"
      },
      "execution_count": null,
      "outputs": [
        {
          "output_type": "stream",
          "name": "stdout",
          "text": [
            "False\n",
            "True\n",
            "False\n"
          ]
        }
      ]
    },
    {
      "cell_type": "markdown",
      "source": [
        "14)Demonstrate negative indexing for list and apply slicing"
      ],
      "metadata": {
        "id": "zduXLtQtLhZG"
      }
    },
    {
      "cell_type": "code",
      "source": [
        "list = [1,7,9,3,5,2,4]\n",
        "K = 3\n",
        "res = ~list[::-1].index(K)\n",
        "print(\"The required Negative index :\" ,res)"
      ],
      "metadata": {
        "colab": {
          "base_uri": "https://localhost:8080/"
        },
        "id": "ksIEt3nCLu4J",
        "outputId": "67a33dc7-ae19-41bd-c0af-f2bfa9d665d3"
      },
      "execution_count": null,
      "outputs": [
        {
          "output_type": "stream",
          "name": "stdout",
          "text": [
            "The required Negative index : -4\n"
          ]
        }
      ]
    },
    {
      "cell_type": "markdown",
      "source": [
        "15)Predict the output for the given code snippet and justify the result\n",
        "        \n",
        "          print('A series of characters designated as one object knows as a string :'[::-1][4::3])\n",
        "          print(\"------------------\")\n",
        "          print('Welcome to Python training program'[3:10][::-1])"
      ],
      "metadata": {
        "id": "ckmFZphRSKBb"
      }
    },
    {
      "cell_type": "code",
      "source": [
        "print('A series of characters designated as one object knows as a string :'[::-1][4::3])\n",
        "print(\"------------------\")\n",
        "print('Welcome to Python training program'[3:10][::-1])"
      ],
      "metadata": {
        "colab": {
          "base_uri": "https://localhost:8080/"
        },
        "id": "xIczJ7h2TGNi",
        "outputId": "acfa512e-0e16-4bc0-b352-d68e950d4958"
      },
      "execution_count": null,
      "outputs": [
        {
          "output_type": "stream",
          "name": "stdout",
          "text": [
            "is  o eonsdaidrca  is\n",
            "------------------\n",
            "ot emoc\n"
          ]
        }
      ]
    },
    {
      "cell_type": "markdown",
      "source": [
        "16)Write a python code to get desired output\n",
        "  \n",
        "        input string:           p_phrase=\"was it a car or a cat I saw\"\n",
        "\n",
        "        output string:          WAS I TAC A RO RAC A IT SAW"
      ],
      "metadata": {
        "id": "RhPRjUSAN1WM"
      }
    },
    {
      "cell_type": "code",
      "source": [
        "p_phrase=\"was it a car or a cat I saw\"\n",
        "print(p_phrase[::-1])\n",
        "print(p_phrase.upper())"
      ],
      "metadata": {
        "colab": {
          "base_uri": "https://localhost:8080/"
        },
        "id": "SGfBEA9OOy2G",
        "outputId": "263c3da7-c298-43ef-88dc-d5d0dccd2bd3"
      },
      "execution_count": null,
      "outputs": [
        {
          "output_type": "stream",
          "name": "stdout",
          "text": [
            "was I tac a ro rac a ti saw\n",
            "WAS IT A CAR OR A CAT I SAW\n"
          ]
        }
      ]
    },
    {
      "cell_type": "markdown",
      "source": [
        "17)You are requried to generate a word similar to ZOO ,X and Y that  denote the number of Zs and Os respectively.The generated word similar to Zoo where Y=2*X.\n",
        "\n",
        "        Input X=2     Output=ZZOOOO\n",
        "        Input X=5     Outout=ZZZZZOOOOOOOOOO"
      ],
      "metadata": {
        "id": "uOtDKpIsVevm"
      }
    },
    {
      "cell_type": "code",
      "source": [
        ""
      ],
      "metadata": {
        "id": "CWTK1uPOW3PZ"
      },
      "execution_count": null,
      "outputs": []
    }
  ]
}