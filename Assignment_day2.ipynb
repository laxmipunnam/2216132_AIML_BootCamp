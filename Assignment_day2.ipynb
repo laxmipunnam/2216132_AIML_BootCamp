{
  "nbformat": 4,
  "nbformat_minor": 0,
  "metadata": {
    "colab": {
      "name": "Assignment-day2.ipynb",
      "provenance": [],
      "authorship_tag": "ABX9TyOfP1Fgw+2n8m/aFeDTG0mH",
      "include_colab_link": true
    },
    "kernelspec": {
      "name": "python3",
      "display_name": "Python 3"
    },
    "language_info": {
      "name": "python"
    }
  },
  "cells": [
    {
      "cell_type": "markdown",
      "metadata": {
        "id": "view-in-github",
        "colab_type": "text"
      },
      "source": [
        "<a href=\"https://colab.research.google.com/github/laxmipunnam/2216132_AIML_BootCamp/blob/main/Assignment_day2.ipynb\" target=\"_parent\"><img src=\"https://colab.research.google.com/assets/colab-badge.svg\" alt=\"Open In Colab\"/></a>"
      ]
    },
    {
      "cell_type": "code",
      "execution_count": 1,
      "metadata": {
        "colab": {
          "base_uri": "https://localhost:8080/"
        },
        "id": "FkCMpjjpSb2e",
        "outputId": "c3715060-8d39-49bf-d67e-e7bd2c5d61a0"
      },
      "outputs": [
        {
          "output_type": "stream",
          "name": "stdout",
          "text": [
            "true\n",
            "120\n",
            "\n",
            "\n"
          ]
        }
      ],
      "source": [
        "#If Statment\n",
        "var=120\n",
        "if var>0:\n",
        "  print(\"true\")\n",
        "  print(var)\n",
        "\n",
        "print(\"\\n\")\n",
        "var1=0\n",
        "if var1>0:\n",
        "  print(\"true\")\n",
        "  print(var1)"
      ]
    },
    {
      "cell_type": "code",
      "source": [
        "#If else\n",
        "var2=-1\n",
        "if var2>0: \n",
        "  print(\"true\")\n",
        "  print(var)\n",
        "else:\n",
        "  print(\"false\")"
      ],
      "metadata": {
        "colab": {
          "base_uri": "https://localhost:8080/"
        },
        "id": "N7gdKUDyUGVO",
        "outputId": "d55819bd-a50a-486c-a6e6-089ae9f6844a"
      },
      "execution_count": 2,
      "outputs": [
        {
          "output_type": "stream",
          "name": "stdout",
          "text": [
            "false\n"
          ]
        }
      ]
    },
    {
      "cell_type": "code",
      "source": [
        "#Nested If\n",
        "print(\"NESTED IF\")\n",
        "print(\"BUS TICKET\")\n",
        "age=int(input(\"enter age: \"))\n",
        "if age>12 and age<=18:\n",
        "  if age<15:\n",
        "    print(\"Quarter ticket\")\n",
        "  elif age==15:\n",
        "    print(\"Quarter ticket+discount\")\n",
        "  else:\n",
        "    print(\"Half ticket\")\n",
        "elif age>=19 and age<=60:\n",
        "  print(\"Full Ticket\")\n",
        "elif age>60:\n",
        "  print(\"Full Ticket + discount\")\n",
        "else:\n",
        "  print(\"no ticket\")"
      ],
      "metadata": {
        "colab": {
          "base_uri": "https://localhost:8080/"
        },
        "id": "UBqZsbqRUTdx",
        "outputId": "729f30e4-8dae-47d4-9e18-d91d806a3ba4"
      },
      "execution_count": 3,
      "outputs": [
        {
          "output_type": "stream",
          "name": "stdout",
          "text": [
            "NESTED IF\n",
            "BUS TICKET\n",
            "enter age: 45\n",
            "Full Ticket\n"
          ]
        }
      ]
    },
    {
      "cell_type": "code",
      "source": [
        "#LOOPS\n",
        "print(\"LOOPS\")\n",
        "print(\"FOR LOOP\")\n",
        "n=[6,5,9,21,29,34,25,32]\n",
        "sum=0\n",
        "for val in n:\n",
        "  sum=sum+val\n",
        "print(\"the sum is:\",sum)\n",
        "\n",
        "print(\"\\n\")\n",
        "for i in range(1,11):\n",
        "  print(i)\n",
        "\n",
        "print(\"\\n\")\n",
        "for i in range(1,11,2):\n",
        "  print(i)\n",
        "\n",
        "print(\"\\n\")\n",
        "x=[2,3,4,5,6,7,8,9]\n",
        "y=[]\n",
        "for a in x:\n",
        "  if a%2==0:\n",
        "    y.append(a)\n",
        "print(y)\n",
        "\n",
        "print(\"\\n\")\n",
        "#USING IF STATEMENTS\n",
        "print(\"USING IF STATEMENTS\")\n",
        "d=[0,1,5,7]\n",
        "for i in d:\n",
        "  print(i)\n",
        "else:\n",
        "  print(\"no items\")\n",
        "print(\"\\n\")\n",
        "\n",
        "for l in \"python\":\n",
        "  print(\"current letter is: \",l)\n",
        "\n",
        "print(\"\\n\")\n",
        "#ITERATION BY SEQ INDEXING\n",
        "print(\"ITERATION BY SEQ INDEXING\")\n",
        "fruit=['apple','banana','orange']\n",
        "for index in range(len(fruit)):\n",
        "  print('current fruit is: ',fruit[index])"
      ],
      "metadata": {
        "colab": {
          "base_uri": "https://localhost:8080/"
        },
        "id": "wHLAJ31_UkjT",
        "outputId": "4fd0bfc3-734c-4662-aac9-b68fd551432d"
      },
      "execution_count": 5,
      "outputs": [
        {
          "output_type": "stream",
          "name": "stdout",
          "text": [
            "LOOPS\n",
            "FOR LOOP\n",
            "the sum is: 161\n",
            "\n",
            "\n",
            "1\n",
            "2\n",
            "3\n",
            "4\n",
            "5\n",
            "6\n",
            "7\n",
            "8\n",
            "9\n",
            "10\n",
            "\n",
            "\n",
            "1\n",
            "3\n",
            "5\n",
            "7\n",
            "9\n",
            "\n",
            "\n",
            "[2, 4, 6, 8]\n",
            "\n",
            "\n",
            "USING IF STATEMENTS\n",
            "0\n",
            "1\n",
            "5\n",
            "7\n",
            "no items\n",
            "\n",
            "\n",
            "current letter is:  p\n",
            "current letter is:  y\n",
            "current letter is:  t\n",
            "current letter is:  h\n",
            "current letter is:  o\n",
            "current letter is:  n\n",
            "\n",
            "\n",
            "ITERATION BY SEQ INDEXING\n",
            "current fruit is:  apple\n",
            "current fruit is:  banana\n",
            "current fruit is:  orange\n"
          ]
        }
      ]
    },
    {
      "cell_type": "code",
      "source": [
        "#WHILE LOOP\n",
        "print(\"WHILE LOOP\")\n",
        "count=0\n",
        "while (count<11):\n",
        "  print(count)\n",
        "  count=count+1\n",
        "\n",
        "count=0\n",
        "while (count<5):\n",
        "  print(count)\n",
        "  count=count+1\n",
        "else:\n",
        "  print(\"not less\")"
      ],
      "metadata": {
        "colab": {
          "base_uri": "https://localhost:8080/"
        },
        "id": "VOXZ6JQiUzs3",
        "outputId": "905e83c7-3b23-45d2-e4bc-f7ed1a85d95f"
      },
      "execution_count": 6,
      "outputs": [
        {
          "output_type": "stream",
          "name": "stdout",
          "text": [
            "WHILE LOOP\n",
            "0\n",
            "1\n",
            "2\n",
            "3\n",
            "4\n",
            "5\n",
            "6\n",
            "7\n",
            "8\n",
            "9\n",
            "10\n",
            "0\n",
            "1\n",
            "2\n",
            "3\n",
            "4\n",
            "not less\n"
          ]
        }
      ]
    },
    {
      "cell_type": "code",
      "source": [
        "#NESTED LOOPS\n",
        "print(\"NESTED LOOPS\")\n",
        "print(\"MATRIX ADD\")\n",
        "x=[[1,2,3],\n",
        "   [4,5,6],\n",
        "   [7,8,9]]\n",
        "\n",
        "y=[[2,4,6],[2,5,8],[3,6,9]]\n",
        "\n",
        "res=[[0,0,0],[0,0,0],[0,0,0]]\n",
        "for i in range(len(x)):\n",
        "  for j in range(len(x[0])):\n",
        "    res[i][j]=x[i][j]+y[i][j]\n",
        "for r in res:\n",
        "    print(r)\n",
        "\n",
        "print(\"\\n\")\n",
        "print(\"MATRIX MUL\")\n",
        "x=[[1,2,3],\n",
        "   [4,5,6],\n",
        "   [7,8,9]]\n",
        "\n",
        "y=[[2,4,6],[2,5,8],[3,6,9]]\n",
        "\n",
        "res=[[0,0,0],[0,0,0],[0,0,0]]\n",
        "for i in range(len(x)):\n",
        "  for j in range(len(x[0])):\n",
        "    res[i][j]=x[i][j]*y[i][j]\n",
        "  for r in res:\n",
        "    print(r)"
      ],
      "metadata": {
        "colab": {
          "base_uri": "https://localhost:8080/"
        },
        "id": "ghlNMXkIU9Wp",
        "outputId": "67d286b8-060f-4e99-c68e-3a39badcdfb9"
      },
      "execution_count": 7,
      "outputs": [
        {
          "output_type": "stream",
          "name": "stdout",
          "text": [
            "NESTED LOOPS\n",
            "MATRIX ADD\n",
            "[3, 6, 9]\n",
            "[6, 10, 14]\n",
            "[10, 14, 18]\n",
            "\n",
            "\n",
            "MATRIX MUL\n",
            "[2, 8, 18]\n",
            "[0, 0, 0]\n",
            "[0, 0, 0]\n",
            "[2, 8, 18]\n",
            "[8, 25, 48]\n",
            "[0, 0, 0]\n",
            "[2, 8, 18]\n",
            "[8, 25, 48]\n",
            "[21, 48, 81]\n"
          ]
        }
      ]
    },
    {
      "cell_type": "code",
      "source": [
        "num=int(input(\"ENTER LAST VALUE TO GET TABLESS: \"))\n",
        "i=1\n",
        "while(i<=num):\n",
        "  print(f\"Table {i}\")#rawstring\n",
        "  j=1\n",
        "  while(j<=10):\n",
        "    print(f\"{i}*{j}={i*j}\")\n",
        "    j=j+1\n",
        "  print(\"------------------------------------------------\")\n",
        "  i=i+1"
      ],
      "metadata": {
        "colab": {
          "base_uri": "https://localhost:8080/"
        },
        "id": "ZrZqGRWMVHew",
        "outputId": "54396d0f-ee68-423e-b577-013389dd8a4f"
      },
      "execution_count": 8,
      "outputs": [
        {
          "output_type": "stream",
          "name": "stdout",
          "text": [
            "ENTER LAST VALUE TO GET TABLESS: 5\n",
            "Table 1\n",
            "1*1=1\n",
            "1*2=2\n",
            "1*3=3\n",
            "1*4=4\n",
            "1*5=5\n",
            "1*6=6\n",
            "1*7=7\n",
            "1*8=8\n",
            "1*9=9\n",
            "1*10=10\n",
            "------------------------------------------------\n",
            "Table 2\n",
            "2*1=2\n",
            "2*2=4\n",
            "2*3=6\n",
            "2*4=8\n",
            "2*5=10\n",
            "2*6=12\n",
            "2*7=14\n",
            "2*8=16\n",
            "2*9=18\n",
            "2*10=20\n",
            "------------------------------------------------\n",
            "Table 3\n",
            "3*1=3\n",
            "3*2=6\n",
            "3*3=9\n",
            "3*4=12\n",
            "3*5=15\n",
            "3*6=18\n",
            "3*7=21\n",
            "3*8=24\n",
            "3*9=27\n",
            "3*10=30\n",
            "------------------------------------------------\n",
            "Table 4\n",
            "4*1=4\n",
            "4*2=8\n",
            "4*3=12\n",
            "4*4=16\n",
            "4*5=20\n",
            "4*6=24\n",
            "4*7=28\n",
            "4*8=32\n",
            "4*9=36\n",
            "4*10=40\n",
            "------------------------------------------------\n",
            "Table 5\n",
            "5*1=5\n",
            "5*2=10\n",
            "5*3=15\n",
            "5*4=20\n",
            "5*5=25\n",
            "5*6=30\n",
            "5*7=35\n",
            "5*8=40\n",
            "5*9=45\n",
            "5*10=50\n",
            "------------------------------------------------\n"
          ]
        }
      ]
    },
    {
      "cell_type": "code",
      "source": [
        "#LOOP CONTROL STATEMENTS\n",
        "\n",
        "#break\n",
        "print(\"LOOP CONTROL STATEMENTS\")\n",
        "print(\"BREAK\")\n",
        "for l in 'python':\n",
        "  if l =='h':\n",
        "    break\n",
        "  print(l)\n",
        "\n",
        "int1=10\n",
        "while(int1>0):\n",
        "  print(int1)\n",
        "  int1=int1-1\n",
        "  if int1==5:\n",
        "    break\n",
        "\n",
        "#continue\n",
        "\n",
        "print(\"\\n\")\n",
        "print(\"CONTINUE\") \n",
        "for l in 'python':\n",
        " if l =='h':\n",
        "   continue\n",
        " print(l)\n",
        "\n",
        "int1=10\n",
        "while(int1>0):\n",
        "  print(int1)\n",
        "  int1=int1-1\n",
        "  if int1==5:\n",
        "    continue\n",
        "\n",
        "#PASS\n",
        "\n",
        "print(\"\\n\")\n",
        "print(\"PASS\")\n",
        "for l in 'python':\n",
        " if l =='h':\n",
        "   pass\n",
        " print(l)\n",
        "\n",
        "int1=10\n",
        "while(int1>0):\n",
        "  print(int1)\n",
        "  int1=int1-1\n",
        "  if int1==5:\n",
        "    pass"
      ],
      "metadata": {
        "colab": {
          "base_uri": "https://localhost:8080/"
        },
        "id": "9l4xLp36VY5Q",
        "outputId": "59a61c88-8be0-46be-e54e-be63e5052b83"
      },
      "execution_count": 28,
      "outputs": [
        {
          "output_type": "stream",
          "name": "stdout",
          "text": [
            "LOOP CONTROL STATEMENTS\n",
            "BREAK\n",
            "p\n",
            "y\n",
            "t\n",
            "10\n",
            "9\n",
            "8\n",
            "7\n",
            "6\n",
            "\n",
            "\n",
            "CONTINUE\n",
            "p\n",
            "y\n",
            "t\n",
            "o\n",
            "n\n",
            "10\n",
            "9\n",
            "8\n",
            "7\n",
            "6\n",
            "5\n",
            "4\n",
            "3\n",
            "2\n",
            "1\n",
            "\n",
            "\n",
            "PASS\n",
            "p\n",
            "y\n",
            "t\n",
            "h\n",
            "o\n",
            "n\n",
            "10\n",
            "9\n",
            "8\n",
            "7\n",
            "6\n",
            "5\n",
            "4\n",
            "3\n",
            "2\n",
            "1\n"
          ]
        }
      ]
    },
    {
      "cell_type": "code",
      "source": [
        "str1=input(\"enter a string: \")\n",
        "str2=str1[::-1]\n",
        "if(str1==str2):\n",
        "  print(\"Palindrome\")\n",
        "else:\n",
        "  print(\"not\")"
      ],
      "metadata": {
        "colab": {
          "base_uri": "https://localhost:8080/"
        },
        "id": "ODT11Eh0VpRV",
        "outputId": "4b77b046-54b2-498f-875c-4239a0b863cc"
      },
      "execution_count": 12,
      "outputs": [
        {
          "output_type": "stream",
          "name": "stdout",
          "text": [
            "enter a string: dad\n",
            "Palindrome\n"
          ]
        }
      ]
    },
    {
      "cell_type": "code",
      "source": [
        "for i in range(1,101):\n",
        "  str2=str(i)\n",
        "  if (str2==str2[::-1]):\n",
        "    print(\"yes the palindrome number is: \",i)"
      ],
      "metadata": {
        "colab": {
          "base_uri": "https://localhost:8080/"
        },
        "id": "YLWMB5-EVzxR",
        "outputId": "227d0efc-e558-481f-e978-1c38689513b2"
      },
      "execution_count": 13,
      "outputs": [
        {
          "output_type": "stream",
          "name": "stdout",
          "text": [
            "yes the palindrome number is:  1\n",
            "yes the palindrome number is:  2\n",
            "yes the palindrome number is:  3\n",
            "yes the palindrome number is:  4\n",
            "yes the palindrome number is:  5\n",
            "yes the palindrome number is:  6\n",
            "yes the palindrome number is:  7\n",
            "yes the palindrome number is:  8\n",
            "yes the palindrome number is:  9\n",
            "yes the palindrome number is:  11\n",
            "yes the palindrome number is:  22\n",
            "yes the palindrome number is:  33\n",
            "yes the palindrome number is:  44\n",
            "yes the palindrome number is:  55\n",
            "yes the palindrome number is:  66\n",
            "yes the palindrome number is:  77\n",
            "yes the palindrome number is:  88\n",
            "yes the palindrome number is:  99\n"
          ]
        }
      ]
    },
    {
      "cell_type": "code",
      "source": [
        "#EVEN ODD LISTS\n",
        "a=[1,2,3,4,5,6,7,8,9]\n",
        "b=[]\n",
        "c=[]\n",
        "for i in a:\n",
        "  if(i%2==0):\n",
        "    b.append(i) \n",
        "  else:\n",
        "    c.append(i)\n",
        "print(c)\n",
        "print(b)"
      ],
      "metadata": {
        "colab": {
          "base_uri": "https://localhost:8080/"
        },
        "id": "aM95MPc-V-a-",
        "outputId": "b231929e-cf90-4fe1-ba02-48ed7d9ae11f"
      },
      "execution_count": 14,
      "outputs": [
        {
          "output_type": "stream",
          "name": "stdout",
          "text": [
            "[1, 3, 5, 7, 9]\n",
            "[2, 4, 6, 8]\n"
          ]
        }
      ]
    },
    {
      "cell_type": "markdown",
      "source": [
        "Write a python program that generates desired output i.e, from countries list select out the country names that contain string “and” \n",
        "\n",
        "                  Output: [“Finland”,”Ireland”]"
      ],
      "metadata": {
        "id": "hZ3Ufn5hWmSy"
      }
    },
    {
      "cell_type": "code",
      "source": [
        "\n",
        "Countries_list=['Finland','Germany','Sweden','Ireland','Turkey']\n",
        "l=[]\n",
        "for i in Countries_list:\n",
        "  if(\"and\" in i):\n",
        "    l.append(i)\n",
        "print(l)"
      ],
      "metadata": {
        "colab": {
          "base_uri": "https://localhost:8080/"
        },
        "id": "IT3t7uKuWMi-",
        "outputId": "29917b36-0765-4e32-b3b7-ef52865b493a"
      },
      "execution_count": 15,
      "outputs": [
        {
          "output_type": "stream",
          "name": "stdout",
          "text": [
            "['Finland', 'Ireland']\n"
          ]
        }
      ]
    },
    {
      "cell_type": "markdown",
      "source": [
        "Write a python program that print respective grades of student:\n",
        "\n",
        "Grade – Outstanding for marks>=90\n",
        "\n",
        "Grade A+ for marks >=80, <90\n",
        "\n",
        "Grade A for marks >=70, <80\n",
        "\n",
        "Grade B for marks >=60 and <70\n",
        "\n",
        "<60 Grade C"
      ],
      "metadata": {
        "id": "VIuKBhzyWyw1"
      }
    },
    {
      "cell_type": "code",
      "source": [
        "m=int(input(\"enter marks: \"))\n",
        "if m>=90:\n",
        "  print(\"OUTSTANDING\")\n",
        "elif m>=80 and m<90:\n",
        "  print(\"A+\")\n",
        "elif m>=70 and m<80:\n",
        "  print(\"A\")\n",
        "elif m>=60 and m<70:\n",
        "  print(\"B\")\n",
        "else:\n",
        "  print(\"C\")"
      ],
      "metadata": {
        "colab": {
          "base_uri": "https://localhost:8080/"
        },
        "id": "EqM_sAH2W3d6",
        "outputId": "185a8f7c-dd5f-4ebc-e6dc-482b0031a655"
      },
      "execution_count": 17,
      "outputs": [
        {
          "output_type": "stream",
          "name": "stdout",
          "text": [
            "enter marks: 74\n",
            "A\n"
          ]
        }
      ]
    },
    {
      "cell_type": "markdown",
      "source": [
        "Create a list with name state list with 5 elements \n",
        "\n",
        "     State_list = [“Delhi”,”Telangana”,”Goa”,”AP”,”Kerala”]\n",
        "\n",
        "Write a python program that extract first and last characters of each item and print in desired format.\n",
        "\n",
        "        Input: [“Delhi”,”Telangana”,”Goa”,”AP”,”Kerala”]\n",
        "\n",
        "        Output: dItAgAaOkA"
      ],
      "metadata": {
        "id": "ZfGKzAgEXGIS"
      }
    },
    {
      "cell_type": "code",
      "source": [
        "s=[\"laxmi\",\"hamsa\",\"bhavana\",\"shivani\",\"sragvi\"]\n",
        "l=[]\n",
        "for i in s:\n",
        "  l.append(i[0])\n",
        "  l.append(i[len(i)-1])\n",
        "print(l)\n",
        "dtr=\"\".join(l)\n",
        "#print(dtr)\n",
        "str1=dtr.swapcase()\n",
        "print(str1)"
      ],
      "metadata": {
        "colab": {
          "base_uri": "https://localhost:8080/"
        },
        "id": "shKi8v1tXXVQ",
        "outputId": "45751a94-ff9f-481e-bb3e-e471cd6ec81e"
      },
      "execution_count": 18,
      "outputs": [
        {
          "output_type": "stream",
          "name": "stdout",
          "text": [
            "['l', 'i', 'h', 'a', 'b', 'a', 's', 'i', 's', 'i']\n",
            "LIHABASISI\n"
          ]
        }
      ]
    },
    {
      "cell_type": "code",
      "source": [
        "s=[\"Delhi\",\"Telangana\",\"Goa\",\"AP\",\"Kerala\"]\n",
        "str=\"\"\n",
        "for i in s:\n",
        "  str+=i[0].lower()+i[-1].upper()\n",
        "print(str)"
      ],
      "metadata": {
        "colab": {
          "base_uri": "https://localhost:8080/"
        },
        "id": "PiLYN4K-XvSw",
        "outputId": "73366a9a-9994-426f-f812-0e9d508b5690"
      },
      "execution_count": 19,
      "outputs": [
        {
          "output_type": "stream",
          "name": "stdout",
          "text": [
            "dItAgAaPkA\n"
          ]
        }
      ]
    },
    {
      "cell_type": "code",
      "source": [
        "#USER DEFINED FUTN\n",
        "print(\"USER DEFINED FUTN\")\n",
        "def greet(name):\n",
        "  '''this futn greets a person'''\n",
        "  print(\"Hello,\" +name+\" Good morning\")\n",
        "greet(\"sai\")"
      ],
      "metadata": {
        "colab": {
          "base_uri": "https://localhost:8080/"
        },
        "id": "VZwYInpLX1D6",
        "outputId": "601be348-3cd0-493e-c1ed-e7a778511d6e"
      },
      "execution_count": 24,
      "outputs": [
        {
          "output_type": "stream",
          "name": "stdout",
          "text": [
            "USER DEFINED FUTN\n",
            "Hello,sai Good morning\n"
          ]
        }
      ]
    },
    {
      "cell_type": "code",
      "source": [
        "#default\n",
        "def A(a,b=1,c=2):\n",
        "  return a+b+c\n",
        "print(A(0))\n",
        "print(A(3))\n",
        "print(A(4,4,4))\n"
      ],
      "metadata": {
        "colab": {
          "base_uri": "https://localhost:8080/"
        },
        "id": "zgzpYD8WYNM2",
        "outputId": "a9f2f68a-b011-4576-c00b-86e796c220cd"
      },
      "execution_count": 25,
      "outputs": [
        {
          "output_type": "stream",
          "name": "stdout",
          "text": [
            "3\n",
            "6\n",
            "12\n"
          ]
        }
      ]
    },
    {
      "cell_type": "code",
      "source": [
        "#KEYWORDS\n",
        "print(\"KEYWORDS\")\n",
        "def A(a,b=1,c=2):\n",
        "  return a+b+c\n",
        "print(A(a=2,b=3))\n",
        "print(A(c=3,a=1))"
      ],
      "metadata": {
        "colab": {
          "base_uri": "https://localhost:8080/"
        },
        "id": "OTVOF6EXYWk7",
        "outputId": "1aa60b76-0f48-49f9-d3f8-ad1e5f78a4c4"
      },
      "execution_count": 26,
      "outputs": [
        {
          "output_type": "stream",
          "name": "stdout",
          "text": [
            "KEYWORDS\n",
            "7\n",
            "5\n"
          ]
        }
      ]
    },
    {
      "cell_type": "code",
      "source": [
        "#POSITIONAL\n",
        "def add(a,b,c):\n",
        "  return a+b+c\n",
        "print(add(10,20,30))\n",
        "print(add(10,b=20,c=30))"
      ],
      "metadata": {
        "colab": {
          "base_uri": "https://localhost:8080/"
        },
        "id": "Vys24WqBYbgh",
        "outputId": "15c66ac2-bb16-4f5f-f44d-3402e1b562c4"
      },
      "execution_count": 27,
      "outputs": [
        {
          "output_type": "stream",
          "name": "stdout",
          "text": [
            "60\n",
            "60\n"
          ]
        }
      ]
    },
    {
      "cell_type": "code",
      "source": [
        "#arbitrary keyword\n",
        "\n",
        "def key_arg(**kwargs):\n",
        "  return kwargs\n",
        "my_dict=key_arg(Apples=10,Oranges=20,Grapes=30)\n",
        "print(my_dict['Apples'])\n",
        "print(my_dict)"
      ],
      "metadata": {
        "colab": {
          "base_uri": "https://localhost:8080/"
        },
        "id": "Gmyt4yubZ2jU",
        "outputId": "3324cacf-1fe0-4999-b328-e130b0e3b447"
      },
      "execution_count": 30,
      "outputs": [
        {
          "output_type": "stream",
          "name": "stdout",
          "text": [
            "10\n",
            "{'Apples': 10, 'Oranges': 20, 'Grapes': 30}\n"
          ]
        }
      ]
    },
    {
      "cell_type": "code",
      "source": [
        "#higher order functions\n",
        "\n",
        "def shout(text):\n",
        "  return text.upper()\n",
        "def whisper(text):\n",
        "  return text.lower()\n",
        "def explain(func):\n",
        "  greet=func(\"Hi, i am higher order function\")\n",
        "  print(greet)\n",
        "explain(shout)\n",
        "explain(whisper)\n"
      ],
      "metadata": {
        "colab": {
          "base_uri": "https://localhost:8080/"
        },
        "id": "y4JO-3MgZ_iq",
        "outputId": "f2e49114-53a9-4fc4-9f25-6f3367f6fb14"
      },
      "execution_count": 37,
      "outputs": [
        {
          "output_type": "stream",
          "name": "stdout",
          "text": [
            "HI, I AM HIGHER ORDER FUNCTION\n",
            "hi, i am higher order function\n"
          ]
        }
      ]
    },
    {
      "cell_type": "code",
      "source": [
        "#lambda\n",
        "\n",
        "def incr(x):\n",
        "  x=x+1\n",
        "  return x\n",
        "print(incr(4))\n",
        "print((lambda x:x+1)(4))\n",
        "res=lambda x:x+1\n",
        "print(res(4))\n"
      ],
      "metadata": {
        "colab": {
          "base_uri": "https://localhost:8080/"
        },
        "id": "YKi-u2Tha07h",
        "outputId": "0b9062bd-da86-477d-8438-5c3e9449dc88"
      },
      "execution_count": 38,
      "outputs": [
        {
          "output_type": "stream",
          "name": "stdout",
          "text": [
            "5\n",
            "5\n",
            "5\n"
          ]
        }
      ]
    },
    {
      "cell_type": "code",
      "source": [
        "print((lambda x,y:x**y)(2,2))\n",
        "print((lambda x,y:x+y)(2,3))\n",
        "res=lambda x,y:x+y\n",
        "print(res(2,3))"
      ],
      "metadata": {
        "colab": {
          "base_uri": "https://localhost:8080/"
        },
        "id": "giUdovAca6Z1",
        "outputId": "59d23f55-9a45-42c1-9bd9-3efc9fa46f16"
      },
      "execution_count": 39,
      "outputs": [
        {
          "output_type": "stream",
          "name": "stdout",
          "text": [
            "4\n",
            "5\n",
            "5\n"
          ]
        }
      ]
    },
    {
      "cell_type": "code",
      "source": [
        "li=[1,2,3,4,5]\n",
        "#res=lambda x:x+2\n",
        "#print(res(li))\n",
        "def inc(num):\n",
        "  return num+2\n",
        "res_list=list(map(inc,li))\n",
        "print(res_list)\n",
        "res_list1=list(map(lambda x:x+2,li))\n",
        "print(res_list)\n",
        "print(list(map(lambda x:x+2,li)))"
      ],
      "metadata": {
        "colab": {
          "base_uri": "https://localhost:8080/"
        },
        "id": "eCp7mx-Fa_qg",
        "outputId": "b9903dac-1299-4f4c-dd16-9f6b66c8f36a"
      },
      "execution_count": 45,
      "outputs": [
        {
          "output_type": "stream",
          "name": "stdout",
          "text": [
            "[3, 4, 5, 6, 7]\n",
            "[3, 4, 5, 6, 7]\n",
            "[3, 4, 5, 6, 7]\n"
          ]
        }
      ]
    },
    {
      "cell_type": "code",
      "source": [
        "def eor(num):\n",
        "  if num%2==0:\n",
        "    return \"the number {} is even\".format(num)\n",
        "  else:\n",
        "    return \"the number {} is odd\".format(num)\n",
        "eor(23)"
      ],
      "metadata": {
        "colab": {
          "base_uri": "https://localhost:8080/",
          "height": 36
        },
        "id": "nIdTcsKkbTjv",
        "outputId": "a1fbbde7-224a-4131-9b35-b2795ba53d56"
      },
      "execution_count": 47,
      "outputs": [
        {
          "output_type": "execute_result",
          "data": {
            "text/plain": [
              "'the number 23 is odd'"
            ],
            "application/vnd.google.colaboratory.intrinsic+json": {
              "type": "string"
            }
          },
          "metadata": {},
          "execution_count": 47
        }
      ]
    },
    {
      "cell_type": "code",
      "source": [
        "#map examples\n",
        "\n",
        "l=[1,2,3,4,5,6,7,8,9,10]\n",
        "list(map(eor,l))"
      ],
      "metadata": {
        "colab": {
          "base_uri": "https://localhost:8080/"
        },
        "id": "7F1BBAXabsob",
        "outputId": "6601ad48-4666-4d57-bb6e-ffaded6729ca"
      },
      "execution_count": 50,
      "outputs": [
        {
          "output_type": "execute_result",
          "data": {
            "text/plain": [
              "['the number 1 is odd',\n",
              " 'the number 2 is even',\n",
              " 'the number 3 is odd',\n",
              " 'the number 4 is even',\n",
              " 'the number 5 is odd',\n",
              " 'the number 6 is even',\n",
              " 'the number 7 is odd',\n",
              " 'the number 8 is even',\n",
              " 'the number 9 is odd',\n",
              " 'the number 10 is even']"
            ]
          },
          "metadata": {},
          "execution_count": 50
        }
      ]
    },
    {
      "cell_type": "code",
      "source": [
        "li=['apple','banana','grapes']\n",
        "r=list(map(lambda x:x.capitalize(),li))\n",
        "print(r)"
      ],
      "metadata": {
        "colab": {
          "base_uri": "https://localhost:8080/"
        },
        "id": "NBW0Z9u9bvkK",
        "outputId": "ead47b74-5b16-4c12-b873-9f0da208d4c3"
      },
      "execution_count": 49,
      "outputs": [
        {
          "output_type": "stream",
          "name": "stdout",
          "text": [
            "['Apple', 'Banana', 'Grapes']\n"
          ]
        }
      ]
    },
    {
      "cell_type": "code",
      "source": [
        "#filter\n",
        "\n",
        "def odd_num(n):\n",
        "  if n%2!=0:\n",
        "    return n\n",
        "my_list=[9,26,35,-2,50]\n",
        "print(list(filter(odd_num,my_list)))\n",
        "my_list=[18,94,33,16,99,22,56,107,34]\n",
        "temp=list(filter(lambda x:x%2==0,my_list))\n",
        "print(temp)"
      ],
      "metadata": {
        "colab": {
          "base_uri": "https://localhost:8080/"
        },
        "id": "4ELXwEXWb-AE",
        "outputId": "c9905c39-7831-4bbd-d5ef-653d02d186c4"
      },
      "execution_count": 51,
      "outputs": [
        {
          "output_type": "stream",
          "name": "stdout",
          "text": [
            "[9, 35]\n",
            "[18, 94, 16, 22, 56, 34]\n"
          ]
        }
      ]
    },
    {
      "cell_type": "code",
      "source": [
        "#math module\n",
        "import math as m\n",
        "print(m.pi)\n",
        "print(m.e)\n",
        "print(m.sqrt(4))\n",
        "print(m.factorial(5))\n",
        "print(m.pow(2,2))\n",
        "print(m.floor(1.4))\n",
        "print(m.tan(5))\n",
        "print(m.log(2))"
      ],
      "metadata": {
        "colab": {
          "base_uri": "https://localhost:8080/"
        },
        "id": "00lI99ifcNKt",
        "outputId": "f59b8203-255f-44b7-8533-e9269e1e630d"
      },
      "execution_count": 52,
      "outputs": [
        {
          "output_type": "stream",
          "name": "stdout",
          "text": [
            "3.141592653589793\n",
            "2.718281828459045\n",
            "2.0\n",
            "120\n",
            "4.0\n",
            "1\n",
            "-3.380515006246586\n",
            "0.6931471805599453\n"
          ]
        }
      ]
    },
    {
      "cell_type": "code",
      "source": [
        "#sys module\n",
        "\n",
        "import sys\n",
        "print(sys.path)\n",
        "print(sys.version)\n",
        "print(sys.maxsize)"
      ],
      "metadata": {
        "colab": {
          "base_uri": "https://localhost:8080/"
        },
        "id": "6n8I_PgZcUGn",
        "outputId": "25e88c14-1526-41f7-e767-6723e405d2b4"
      },
      "execution_count": 53,
      "outputs": [
        {
          "output_type": "stream",
          "name": "stdout",
          "text": [
            "['', '/content', '/env/python', '/usr/lib/python37.zip', '/usr/lib/python3.7', '/usr/lib/python3.7/lib-dynload', '/usr/local/lib/python3.7/dist-packages', '/usr/lib/python3/dist-packages', '/usr/local/lib/python3.7/dist-packages/IPython/extensions', '/root/.ipython']\n",
            "3.7.13 (default, Apr 24 2022, 01:04:09) \n",
            "[GCC 7.5.0]\n",
            "9223372036854775807\n"
          ]
        }
      ]
    },
    {
      "cell_type": "code",
      "source": [
        "#statistics module\n",
        "import statistics as st\n",
        "print(st.mean([20,21,19]))\n",
        "print(st.median([1,2,3,4,5]))\n",
        "print(st.mode([1,2,3,1,1]))"
      ],
      "metadata": {
        "colab": {
          "base_uri": "https://localhost:8080/"
        },
        "id": "NofnhKrrcT84",
        "outputId": "1dc0f512-3d8c-4d31-93f2-b71c93aded51"
      },
      "execution_count": 55,
      "outputs": [
        {
          "output_type": "stream",
          "name": "stdout",
          "text": [
            "20\n",
            "3\n",
            "1\n"
          ]
        }
      ]
    },
    {
      "cell_type": "code",
      "source": [
        "#time module\n",
        "\n",
        "import time\n",
        "print(time.time())\n",
        "print(time.localtime())\n",
        "print(time.asctime())\n",
        "print(time.ctime())\n",
        "print(time.sleep(1.5))"
      ],
      "metadata": {
        "colab": {
          "base_uri": "https://localhost:8080/"
        },
        "id": "_5Zpo4GxcT1G",
        "outputId": "60df6e12-77e3-4269-c91e-ca2523458ba4"
      },
      "execution_count": 56,
      "outputs": [
        {
          "output_type": "stream",
          "name": "stdout",
          "text": [
            "1655230860.3112187\n",
            "time.struct_time(tm_year=2022, tm_mon=6, tm_mday=14, tm_hour=18, tm_min=21, tm_sec=0, tm_wday=1, tm_yday=165, tm_isdst=0)\n",
            "Tue Jun 14 18:21:00 2022\n",
            "Tue Jun 14 18:21:00 2022\n",
            "None\n"
          ]
        }
      ]
    },
    {
      "cell_type": "code",
      "source": [
        "#random module\n",
        "import random\n",
        "print(random.randrange(1,50))\n",
        "print(random.randint(1,100))\n",
        "print(random.random())"
      ],
      "metadata": {
        "colab": {
          "base_uri": "https://localhost:8080/"
        },
        "id": "LNKohZy5cTuW",
        "outputId": "71c7b654-20c2-4158-a450-cbac503ec795"
      },
      "execution_count": 57,
      "outputs": [
        {
          "output_type": "stream",
          "name": "stdout",
          "text": [
            "16\n",
            "57\n",
            "0.1317873348723978\n"
          ]
        }
      ]
    },
    {
      "cell_type": "code",
      "source": [
        "import random\n",
        "g_num=random.randint(0,5)\n",
        "g2_num=int(input(\"PREDICT A NUMBER=\"))\n",
        "if g2_num==g_num:\n",
        "  print(\"you won\")\n",
        "else:\n",
        "  print(\" you lost\")"
      ],
      "metadata": {
        "colab": {
          "base_uri": "https://localhost:8080/"
        },
        "id": "8hOS3UvKcqdr",
        "outputId": "f68d526c-b0fc-40ec-b5ca-e3cfbe1cd6eb"
      },
      "execution_count": 72,
      "outputs": [
        {
          "output_type": "stream",
          "name": "stdout",
          "text": [
            "PREDICT A NUMBER=5\n",
            "you won\n"
          ]
        }
      ]
    },
    {
      "cell_type": "markdown",
      "source": [
        "Write a python program that remove items that are multiples of 5 from list:\n",
        "\n",
        "    li=[1,2,5,6,7,10,15,25,65,78,90]\n",
        "\n",
        "    o/p: [1,2,6,7,78]"
      ],
      "metadata": {
        "id": "WG8dLuY4d_t0"
      }
    },
    {
      "cell_type": "code",
      "source": [
        "li=[1,2,5,6,7,10,15,25,65,78,90]\n",
        "res=list(filter(lambda x:x%5!=0,li))\n",
        "print(res)"
      ],
      "metadata": {
        "colab": {
          "base_uri": "https://localhost:8080/"
        },
        "id": "V16DIpMxcqaQ",
        "outputId": "1f69bbb0-d466-4106-ce34-350acd8ed669"
      },
      "execution_count": 73,
      "outputs": [
        {
          "output_type": "stream",
          "name": "stdout",
          "text": [
            "[1, 2, 6, 7, 78]\n"
          ]
        }
      ]
    },
    {
      "cell_type": "markdown",
      "source": [
        "removing the multiples of 5 from the given list"
      ],
      "metadata": {
        "id": "5UczoAF6c_82"
      }
    },
    {
      "cell_type": "code",
      "source": [
        "li=[1,2,5,6,7,10,15,25,65,78,90]\n",
        "\n",
        "for i in list (li): \n",
        "   print(li,i) \n",
        "   if i%5==0: \n",
        "     li.remove(i) \n",
        "   print(li)"
      ],
      "metadata": {
        "colab": {
          "base_uri": "https://localhost:8080/"
        },
        "id": "fT6CfxLPcqXk",
        "outputId": "d2c17f95-5751-4e07-9409-57971ea49d24"
      },
      "execution_count": 61,
      "outputs": [
        {
          "output_type": "stream",
          "name": "stdout",
          "text": [
            "[1, 2, 5, 6, 7, 10, 15, 25, 65, 78, 90] 1\n",
            "[1, 2, 5, 6, 7, 10, 15, 25, 65, 78, 90]\n",
            "[1, 2, 5, 6, 7, 10, 15, 25, 65, 78, 90] 2\n",
            "[1, 2, 5, 6, 7, 10, 15, 25, 65, 78, 90]\n",
            "[1, 2, 5, 6, 7, 10, 15, 25, 65, 78, 90] 5\n",
            "[1, 2, 6, 7, 10, 15, 25, 65, 78, 90]\n",
            "[1, 2, 6, 7, 10, 15, 25, 65, 78, 90] 6\n",
            "[1, 2, 6, 7, 10, 15, 25, 65, 78, 90]\n",
            "[1, 2, 6, 7, 10, 15, 25, 65, 78, 90] 7\n",
            "[1, 2, 6, 7, 10, 15, 25, 65, 78, 90]\n",
            "[1, 2, 6, 7, 10, 15, 25, 65, 78, 90] 10\n",
            "[1, 2, 6, 7, 15, 25, 65, 78, 90]\n",
            "[1, 2, 6, 7, 15, 25, 65, 78, 90] 15\n",
            "[1, 2, 6, 7, 25, 65, 78, 90]\n",
            "[1, 2, 6, 7, 25, 65, 78, 90] 25\n",
            "[1, 2, 6, 7, 65, 78, 90]\n",
            "[1, 2, 6, 7, 65, 78, 90] 65\n",
            "[1, 2, 6, 7, 78, 90]\n",
            "[1, 2, 6, 7, 78, 90] 78\n",
            "[1, 2, 6, 7, 78, 90]\n",
            "[1, 2, 6, 7, 78, 90] 90\n",
            "[1, 2, 6, 7, 78]\n"
          ]
        }
      ]
    },
    {
      "cell_type": "code",
      "source": [
        "li=[1,2,5,6,7,10,15,25,65,78,90]\n",
        "\n",
        "for i in list (li): \n",
        "  # print(li,i) \n",
        "  if i%5==0: \n",
        "    li.remove(i) \n",
        "  print(li)"
      ],
      "metadata": {
        "colab": {
          "base_uri": "https://localhost:8080/"
        },
        "id": "yhNeh7U1dcEZ",
        "outputId": "8fddc1fc-13cf-405c-a49b-0770df342d68"
      },
      "execution_count": 64,
      "outputs": [
        {
          "output_type": "stream",
          "name": "stdout",
          "text": [
            "[1, 2, 5, 6, 7, 10, 15, 25, 65, 78, 90]\n",
            "[1, 2, 5, 6, 7, 10, 15, 25, 65, 78, 90]\n",
            "[1, 2, 6, 7, 10, 15, 25, 65, 78, 90]\n",
            "[1, 2, 6, 7, 10, 15, 25, 65, 78, 90]\n",
            "[1, 2, 6, 7, 10, 15, 25, 65, 78, 90]\n",
            "[1, 2, 6, 7, 15, 25, 65, 78, 90]\n",
            "[1, 2, 6, 7, 25, 65, 78, 90]\n",
            "[1, 2, 6, 7, 65, 78, 90]\n",
            "[1, 2, 6, 7, 78, 90]\n",
            "[1, 2, 6, 7, 78, 90]\n",
            "[1, 2, 6, 7, 78]\n"
          ]
        }
      ]
    },
    {
      "cell_type": "code",
      "source": [
        "li=[1,2,5,6,7,10,15,25,65,78,90]\n",
        "\n",
        "for i in list (li): \n",
        "  # print(li,i) \n",
        "  if i%5==0: \n",
        "    li.remove(i) \n",
        "print(li)"
      ],
      "metadata": {
        "colab": {
          "base_uri": "https://localhost:8080/"
        },
        "id": "A7tg4nt4doh3",
        "outputId": "71006e28-f4ba-48c3-c471-7bbc77ae8e37"
      },
      "execution_count": 66,
      "outputs": [
        {
          "output_type": "stream",
          "name": "stdout",
          "text": [
            "[1, 2, 6, 7, 78]\n"
          ]
        }
      ]
    }
  ]
}